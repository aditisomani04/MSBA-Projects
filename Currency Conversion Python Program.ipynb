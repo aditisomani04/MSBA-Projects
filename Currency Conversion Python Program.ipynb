{
 "cells": [
  {
   "cell_type": "markdown",
   "id": "d68856ea",
   "metadata": {},
   "source": [
    "# Currency Conversion System Python Program\n",
    "\n",
    "### Student Name: Aditi Somani\n",
    "### Subject: BUAN 5201 01\n",
    "\n",
    "## Self Evaluation: \n",
    "\n",
    "### Does project work (fully, partially, not at all)?\n",
    "\n",
    "### The Part C of the project works fully without any errors\n",
    "\n",
    "### Discuss what you have achieved ?\n",
    "\n",
    "### In the part C of the project, Firstly, I display the all the given currency codes. Then, ask 3 inputs from the user which are base country, target country and amount to be converted. I am validating all the inputs given by the user. Futhermore, calculating the target amount using conversion rates dictionary and lastly rounding off the final amount converted to 2 decimal points."
   ]
  },
  {
   "cell_type": "code",
   "execution_count": 1,
   "id": "cef67efa",
   "metadata": {},
   "outputs": [
    {
     "data": {
      "text/plain": [
       "'\\n\\nQuestion 3:\\n\\nCurrency Conversion with base currency selection along with currency amount input\\nMake a copy of previous Jupyter Notebook Document and name it: a7-c-lastname. \\nUpdate the program in order to take both base country and target country with the amount to be converted for \\ncurrency conversion.\\n\\nMust include Self Evaluation markdown and write up your responses\\nUse the previous project, a7-b, to add more features\\nDisplay country currency code, NOT ratios (use the rates dictionary)\\nTake one input() from user to get a BASE currency country code from the dictionary, rates\\nTake two input() from user: a) target currency code b) amount to be converted\\nFor example,\\nBase country (KRW) to Target country (CNY) with the Amount of 10000\\nDisplay the output: 10,000.00 in KRW is 58.45 in CNY\\n\\n'"
      ]
     },
     "execution_count": 1,
     "metadata": {},
     "output_type": "execute_result"
    }
   ],
   "source": [
    "'''\n",
    "\n",
   ]
  },
  {
   "cell_type": "code",
   "execution_count": 3,
   "id": "3f2c1861",
   "metadata": {},
   "outputs": [
    {
     "name": "stdout",
     "output_type": "stream",
     "text": [
      "Country Codes: \n",
      "CAD HKD ISK PHP DKK HUF CZK GBP RON SEK IDR\n",
      "INR BRL RUB HRK JPY THB CHF EUR MYR BGN TRY\n",
      "CNY NOK NZD ZAR USD MXN SGD AUD ILS KRW PLN\n",
      "\n",
      "Enter base country code: KRW\n",
      "Enter target country code: Usd\n",
      "Enter amount to be converted: 10000\n",
      "10000 in KRW is 8.99 in USD\n"
     ]
    }
   ],
   "source": [
    "def validate_input(x):\n",
    "    f=0\n",
    "    try:\n",
    "        int(x)\n",
    "    except :\n",
    "        return 1\n",
    "    return 0\n",
    "\n",
    "#printing the keys of conversion_rates\n",
    "def display():\n",
    "    a = list(conversion_rates.keys())\n",
    "    for i in range(0, len(conversion_rates), 11):\n",
    "        print(*a[i:i+11])\n",
    "        \n",
    "\n",
    "conversion_rates = {'CAD': 1.2480163599, 'HKD': 7.7540286299, 'ISK': 125.3987730061, \\\n",
    "         'PHP': 48.6642126789, 'DKK': 6.0828629857, 'HUF': 294.6257668712, \\\n",
    "         'CZK': 21.3578732106, 'GBP': 0.7068139059, 'RON': 3.9875664622, \\\n",
    "         'SEK': 8.234601227, 'IDR': 14193.9468302658, 'INR': 72.6331288344, \\\n",
    "         'BRL': 5.453006135, 'RUB': 73.9074846626, 'HRK': 6.2081799591, \\\n",
    "         'JPY': 106.118609407, 'THB': 30.1496932515, 'CHF': 0.9060122699, \\\n",
    "         'EUR': 0.81799591, 'MYR': 4.0395092025, 'BGN': 1.5998364008, \\\n",
    "         'TRY': 7.2265030675, 'CNY': 6.4538241309, 'NOK': 8.3660531697, \\\n",
    "         'NZD': 1.3422494888, 'ZAR': 14.8139877301, 'USD': 1.0, \\\n",
    "         'MXN': 20.7299795501, 'SGD': 1.318609407, 'AUD': 1.2529243354, \\\n",
    "         'ILS': 3.2790184049, 'KRW': 1111.7709611452, 'PLN': 3.6909611452}\n",
    "\n",
    "print('Country Codes: ')\n",
    "display()\n",
    "print()\n",
    "\n",
    "base_country_code = input(\"Enter base country code: \").upper()\n",
    "target_country_code = input(\"Enter target country code: \").upper()\n",
    "amount = input(\"Enter amount to be converted: \")\n",
    "\n",
    "while(validate_input(amount)):\n",
    "    amount = input(\"Enter the amount to be converted: \")\n",
    "amount = int(amount)\n",
    "\n",
    "target_amount = round(amount * conversion_rates[target_country_code]/conversion_rates[base_country_code],2)\n",
    "print( amount, \"in\", base_country_code, \"is\" ,target_amount, \"in\", target_country_code )\n"
   ]
  }
 ],
 "metadata": {
  "kernelspec": {
   "display_name": "Python 3 (ipykernel)",
   "language": "python",
   "name": "python3"
  },
  "language_info": {
   "codemirror_mode": {
    "name": "ipython",
    "version": 3
   },
   "file_extension": ".py",
   "mimetype": "text/x-python",
   "name": "python",
   "nbconvert_exporter": "python",
   "pygments_lexer": "ipython3",
   "version": "3.9.13"
  }
 },
 "nbformat": 4,
 "nbformat_minor": 5
}
